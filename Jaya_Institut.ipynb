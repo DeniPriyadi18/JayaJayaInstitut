version https://git-lfs.github.com/spec/v1
oid sha256:5b5c1ca84f4f30fc65ad570b65200d5b46133241f16e1209672b6ffecfdccf15
size 3857749
